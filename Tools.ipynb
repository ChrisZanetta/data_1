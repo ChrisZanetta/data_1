{
 "cells": [
  {
   "cell_type": "markdown",
   "id": "ae8397ef-e665-45d1-bb01-6674c0fc52df",
   "metadata": {},
   "source": [
    "# Notebook Title"
   ]
  },
  {
   "cell_type": "markdown",
   "id": "0745dd2a-4e18-4bdf-96ad-9aee3f28df5d",
   "metadata": {},
   "source": [
    "## Introduction\n",
    "This notebook is a final project for data science. It demonstrates the use of Jupyter Notebook for various tasks."
   ]
  },
  {
   "cell_type": "markdown",
   "id": "0ab0c30e-9d62-427f-a020-2d85d1cbaef4",
   "metadata": {},
   "source": [
    "## Data Science Languages\n",
    "- Python\n",
    "- R\n",
    "- SQL\n",
    "- Scala"
   ]
  },
  {
   "cell_type": "markdown",
   "id": "c17f87eb-047a-4edb-b01c-810c1b9189e5",
   "metadata": {},
   "source": [
    "## Data Science Libraries\n",
    "- Pandas\n",
    "- NumPy\n",
    "- Scikit-learn\n",
    "- TensorFlow"
   ]
  },
  {
   "cell_type": "markdown",
   "id": "4c5cee6d-385f-477b-8f60-318b84ddc2a8",
   "metadata": {},
   "source": [
    "## Data Science Tools\n",
    "| Tool          | Description                         |\n",
    "|---------------|-------------------------------------|\n",
    "| Jupyter       | Interactive coding environment       |\n",
    "| GitHub        | Version control platform             |\n",
    "| Docker        | Application containerization         |"
   ]
  },
  {
   "cell_type": "markdown",
   "id": "7f6f2c5b-9967-4580-a72a-db0c4fc8b6bc",
   "metadata": {},
   "source": [
    "## Arithmetic Expressions\n",
    "- Addition: `a + b`\n",
    "- Subtraction: `a - b`\n",
    "- Multiplication: `a * b`\n",
    "- Division: `a / b`"
   ]
  },
  {
   "cell_type": "code",
   "execution_count": 1,
   "id": "852ec8b6-ec98-434c-ace3-752b37912407",
   "metadata": {
    "scrolled": true
   },
   "outputs": [
    {
     "data": {
      "text/plain": [
       "(50, 15)"
      ]
     },
     "execution_count": 1,
     "metadata": {},
     "output_type": "execute_result"
    }
   ],
   "source": [
    "# Multiplication and Addition\n",
    "a = 5\n",
    "b = 10\n",
    "multiplication = a * b\n",
    "addition = a + b\n",
    "multiplication, addition"
   ]
  },
  {
   "cell_type": "code",
   "execution_count": 6,
   "id": "9c034a1b-ab0c-4963-861d-29da05048e5b",
   "metadata": {},
   "outputs": [
    {
     "data": {
      "text/plain": [
       "2.5"
      ]
     },
     "execution_count": 6,
     "metadata": {},
     "output_type": "execute_result"
    }
   ],
   "source": [
    "# Convert Minutes to Hours\n",
    "minutes = 150\n",
    "hours = minutes / 60\n",
    "hours"
   ]
  },
  {
   "cell_type": "code",
   "execution_count": 8,
   "id": "b2d92154-0729-40a7-b998-801f15e674c1",
   "metadata": {},
   "outputs": [
    {
     "data": {
      "text/plain": [
       "['Understand the use of Jupyter Notebook',\n",
       " 'Implement basic data science tasks',\n",
       " 'Share the notebook on GitHub']"
      ]
     },
     "execution_count": 8,
     "metadata": {},
     "output_type": "execute_result"
    }
   ],
   "source": [
    "# Objectives\n",
    "objectives = [\"Understand the use of Jupyter Notebook\", \"Implement basic data science tasks\", \"Share the notebook on GitHub\"]\n",
    "objectives\n"
   ]
  },
  {
   "cell_type": "code",
   "execution_count": null,
   "id": "55668b5f-e1f4-45a7-b7fa-84f0b4b9f631",
   "metadata": {},
   "outputs": [],
   "source": [
    "## Author\n",
    "Chris Zanetta"
   ]
  }
 ],
 "metadata": {
  "kernelspec": {
   "display_name": "Python 3 (ipykernel)",
   "language": "python",
   "name": "python3"
  },
  "language_info": {
   "codemirror_mode": {
    "name": "ipython",
    "version": 3
   },
   "file_extension": ".py",
   "mimetype": "text/x-python",
   "name": "python",
   "nbconvert_exporter": "python",
   "pygments_lexer": "ipython3",
   "version": "3.12.4"
  }
 },
 "nbformat": 4,
 "nbformat_minor": 5
}
